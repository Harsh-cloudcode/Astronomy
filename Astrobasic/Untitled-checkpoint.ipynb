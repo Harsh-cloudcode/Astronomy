{
 "cells": [
  {
   "cell_type": "code",
   "execution_count": 1,
   "id": "6549f922",
   "metadata": {},
   "outputs": [
    {
     "name": "stdout",
     "output_type": "stream",
     "text": [
      "Collecting sunpy\n",
      "  Obtaining dependency information for sunpy from https://files.pythonhosted.org/packages/21/a9/2ced3133eb4b8a426a85740cfef3d10ac7e817e76f4c76a9b74a375f7953/sunpy-5.0.0-py3-none-any.whl.metadata\n",
      "  Downloading sunpy-5.0.0-py3-none-any.whl.metadata (11 kB)\n",
      "Requirement already satisfied: astropy>=5.0.1 in c:\\users\\admin\\anaconda3\\lib\\site-packages (from sunpy) (5.1)\n",
      "Requirement already satisfied: numpy>=1.21.0 in c:\\users\\admin\\anaconda3\\lib\\site-packages (from sunpy) (1.24.3)\n",
      "Requirement already satisfied: packaging>=19.0 in c:\\users\\admin\\anaconda3\\lib\\site-packages (from sunpy) (23.0)\n",
      "Collecting parfive[ftp]>=2.0.0 (from sunpy)\n",
      "  Downloading parfive-2.0.2-py3-none-any.whl (26 kB)\n",
      "Requirement already satisfied: pyerfa>=2.0 in c:\\users\\admin\\anaconda3\\lib\\site-packages (from astropy>=5.0.1->sunpy) (2.0.0)\n",
      "Requirement already satisfied: PyYAML>=3.13 in c:\\users\\admin\\anaconda3\\lib\\site-packages (from astropy>=5.0.1->sunpy) (6.0)\n",
      "Requirement already satisfied: tqdm>=4.27.0 in c:\\users\\admin\\anaconda3\\lib\\site-packages (from parfive[ftp]>=2.0.0->sunpy) (4.65.0)\n",
      "Requirement already satisfied: aiohttp in c:\\users\\admin\\anaconda3\\lib\\site-packages (from parfive[ftp]>=2.0.0->sunpy) (3.8.3)\n",
      "Collecting aioftp>=0.17.1 (from parfive[ftp]>=2.0.0->sunpy)\n",
      "  Downloading aioftp-0.21.4-py3-none-any.whl (37 kB)\n",
      "Requirement already satisfied: colorama in c:\\users\\admin\\anaconda3\\lib\\site-packages (from tqdm>=4.27.0->parfive[ftp]>=2.0.0->sunpy) (0.4.6)\n",
      "Requirement already satisfied: attrs>=17.3.0 in c:\\users\\admin\\anaconda3\\lib\\site-packages (from aiohttp->parfive[ftp]>=2.0.0->sunpy) (22.1.0)\n",
      "Requirement already satisfied: charset-normalizer<3.0,>=2.0 in c:\\users\\admin\\anaconda3\\lib\\site-packages (from aiohttp->parfive[ftp]>=2.0.0->sunpy) (2.0.4)\n",
      "Requirement already satisfied: multidict<7.0,>=4.5 in c:\\users\\admin\\anaconda3\\lib\\site-packages (from aiohttp->parfive[ftp]>=2.0.0->sunpy) (6.0.2)\n",
      "Requirement already satisfied: async-timeout<5.0,>=4.0.0a3 in c:\\users\\admin\\anaconda3\\lib\\site-packages (from aiohttp->parfive[ftp]>=2.0.0->sunpy) (4.0.2)\n",
      "Requirement already satisfied: yarl<2.0,>=1.0 in c:\\users\\admin\\anaconda3\\lib\\site-packages (from aiohttp->parfive[ftp]>=2.0.0->sunpy) (1.8.1)\n",
      "Requirement already satisfied: frozenlist>=1.1.1 in c:\\users\\admin\\anaconda3\\lib\\site-packages (from aiohttp->parfive[ftp]>=2.0.0->sunpy) (1.3.3)\n",
      "Requirement already satisfied: aiosignal>=1.1.2 in c:\\users\\admin\\anaconda3\\lib\\site-packages (from aiohttp->parfive[ftp]>=2.0.0->sunpy) (1.2.0)\n",
      "Requirement already satisfied: idna>=2.0 in c:\\users\\admin\\anaconda3\\lib\\site-packages (from yarl<2.0,>=1.0->aiohttp->parfive[ftp]>=2.0.0->sunpy) (3.4)\n",
      "Downloading sunpy-5.0.0-py3-none-any.whl (3.2 MB)\n",
      "   ---------------------------------------- 0.0/3.2 MB ? eta -:--:--\n",
      "    --------------------------------------- 0.0/3.2 MB 1.9 MB/s eta 0:00:02\n",
      "   - -------------------------------------- 0.1/3.2 MB 919.0 kB/s eta 0:00:04\n",
      "   - -------------------------------------- 0.1/3.2 MB 751.6 kB/s eta 0:00:05\n",
      "   - -------------------------------------- 0.1/3.2 MB 751.6 kB/s eta 0:00:05\n",
      "   - -------------------------------------- 0.1/3.2 MB 751.6 kB/s eta 0:00:05\n",
      "   - -------------------------------------- 0.1/3.2 MB 751.6 kB/s eta 0:00:05\n",
      "   -- ------------------------------------- 0.2/3.2 MB 490.7 kB/s eta 0:00:07\n",
      "   -- ------------------------------------- 0.2/3.2 MB 541.9 kB/s eta 0:00:06\n",
      "   --- ------------------------------------ 0.2/3.2 MB 580.1 kB/s eta 0:00:06\n",
      "   --- ------------------------------------ 0.2/3.2 MB 580.1 kB/s eta 0:00:06\n",
      "   --- ------------------------------------ 0.3/3.2 MB 553.0 kB/s eta 0:00:06\n",
      "   --- ------------------------------------ 0.3/3.2 MB 524.2 kB/s eta 0:00:06\n",
      "   --- ------------------------------------ 0.3/3.2 MB 531.5 kB/s eta 0:00:06\n",
      "   ---- ----------------------------------- 0.3/3.2 MB 527.2 kB/s eta 0:00:06\n",
      "   ---- ----------------------------------- 0.4/3.2 MB 533.3 kB/s eta 0:00:06\n",
      "   ---- ----------------------------------- 0.4/3.2 MB 516.2 kB/s eta 0:00:06\n",
      "   ----- ---------------------------------- 0.4/3.2 MB 511.3 kB/s eta 0:00:06\n",
      "   ----- ---------------------------------- 0.5/3.2 MB 531.8 kB/s eta 0:00:06\n",
      "   ----- ---------------------------------- 0.5/3.2 MB 514.9 kB/s eta 0:00:06\n",
      "   ------ --------------------------------- 0.5/3.2 MB 519.9 kB/s eta 0:00:06\n",
      "   ------ --------------------------------- 0.5/3.2 MB 515.8 kB/s eta 0:00:06\n",
      "   ------ --------------------------------- 0.5/3.2 MB 524.1 kB/s eta 0:00:06\n",
      "   ------- -------------------------------- 0.6/3.2 MB 529.8 kB/s eta 0:00:05\n",
      "   ------- -------------------------------- 0.6/3.2 MB 524.2 kB/s eta 0:00:06\n",
      "   ------- -------------------------------- 0.6/3.2 MB 538.5 kB/s eta 0:00:05\n",
      "   ------- -------------------------------- 0.6/3.2 MB 533.0 kB/s eta 0:00:05\n",
      "   -------- ------------------------------- 0.7/3.2 MB 531.1 kB/s eta 0:00:05\n",
      "   -------- ------------------------------- 0.7/3.2 MB 533.8 kB/s eta 0:00:05\n",
      "   -------- ------------------------------- 0.7/3.2 MB 525.7 kB/s eta 0:00:05\n",
      "   --------- ------------------------------ 0.7/3.2 MB 528.8 kB/s eta 0:00:05\n",
      "   --------- ------------------------------ 0.8/3.2 MB 525.7 kB/s eta 0:00:05\n",
      "   --------- ------------------------------ 0.8/3.2 MB 528.6 kB/s eta 0:00:05\n",
      "   --------- ------------------------------ 0.8/3.2 MB 525.7 kB/s eta 0:00:05\n",
      "   ---------- ----------------------------- 0.8/3.2 MB 524.1 kB/s eta 0:00:05\n",
      "   ---------- ----------------------------- 0.8/3.2 MB 521.9 kB/s eta 0:00:05\n",
      "   ---------- ----------------------------- 0.9/3.2 MB 509.6 kB/s eta 0:00:05\n",
      "   ---------- ----------------------------- 0.9/3.2 MB 515.6 kB/s eta 0:00:05\n",
      "   ----------- ---------------------------- 0.9/3.2 MB 514.9 kB/s eta 0:00:05\n",
      "   ----------- ---------------------------- 0.9/3.2 MB 512.9 kB/s eta 0:00:05\n",
      "   ------------ --------------------------- 1.0/3.2 MB 516.4 kB/s eta 0:00:05\n",
      "   ------------ --------------------------- 1.0/3.2 MB 518.8 kB/s eta 0:00:05\n",
      "   ------------ --------------------------- 1.0/3.2 MB 513.8 kB/s eta 0:00:05\n",
      "   ------------ --------------------------- 1.0/3.2 MB 514.9 kB/s eta 0:00:05\n",
      "   ------------- -------------------------- 1.0/3.2 MB 509.2 kB/s eta 0:00:05\n",
      "   ------------- -------------------------- 1.1/3.2 MB 508.6 kB/s eta 0:00:05\n",
      "   ------------- -------------------------- 1.1/3.2 MB 510.8 kB/s eta 0:00:05\n",
      "   ------------- -------------------------- 1.1/3.2 MB 509.2 kB/s eta 0:00:05\n",
      "   -------------- ------------------------- 1.1/3.2 MB 511.3 kB/s eta 0:00:05\n",
      "   -------------- ------------------------- 1.2/3.2 MB 503.8 kB/s eta 0:00:05\n",
      "   -------------- ------------------------- 1.2/3.2 MB 498.0 kB/s eta 0:00:05\n",
      "   --------------- ------------------------ 1.2/3.2 MB 502.2 kB/s eta 0:00:04\n",
      "   --------------- ------------------------ 1.2/3.2 MB 503.1 kB/s eta 0:00:04\n",
      "   --------------- ------------------------ 1.2/3.2 MB 498.8 kB/s eta 0:00:04\n",
      "   --------------- ------------------------ 1.3/3.2 MB 496.5 kB/s eta 0:00:04\n",
      "   ---------------- ----------------------- 1.3/3.2 MB 500.5 kB/s eta 0:00:04\n",
      "   ---------------- ----------------------- 1.3/3.2 MB 498.5 kB/s eta 0:00:04\n",
      "   ---------------- ----------------------- 1.3/3.2 MB 498.2 kB/s eta 0:00:04\n",
      "   ---------------- ----------------------- 1.4/3.2 MB 500.1 kB/s eta 0:00:04\n",
      "   ----------------- ---------------------- 1.4/3.2 MB 501.9 kB/s eta 0:00:04\n",
      "   ----------------- ---------------------- 1.4/3.2 MB 496.1 kB/s eta 0:00:04\n",
      "   ----------------- ---------------------- 1.4/3.2 MB 491.5 kB/s eta 0:00:04\n",
      "   ------------------ --------------------- 1.4/3.2 MB 493.3 kB/s eta 0:00:04\n",
      "   ------------------ --------------------- 1.5/3.2 MB 493.2 kB/s eta 0:00:04\n",
      "   ------------------ --------------------- 1.5/3.2 MB 494.9 kB/s eta 0:00:04\n",
      "   ------------------ --------------------- 1.5/3.2 MB 490.7 kB/s eta 0:00:04\n",
      "   ------------------- -------------------- 1.5/3.2 MB 491.5 kB/s eta 0:00:04\n",
      "   ------------------- -------------------- 1.5/3.2 MB 491.5 kB/s eta 0:00:04\n",
      "   ------------------- -------------------- 1.6/3.2 MB 486.7 kB/s eta 0:00:04\n",
      "   ------------------- -------------------- 1.6/3.2 MB 486.7 kB/s eta 0:00:04\n",
      "   ------------------- -------------------- 1.6/3.2 MB 486.7 kB/s eta 0:00:04\n",
      "   ------------------- -------------------- 1.6/3.2 MB 486.7 kB/s eta 0:00:04\n",
      "   ------------------- -------------------- 1.6/3.2 MB 486.7 kB/s eta 0:00:04\n",
      "   -------------------- ------------------- 1.6/3.2 MB 476.6 kB/s eta 0:00:04\n",
      "   -------------------- ------------------- 1.7/3.2 MB 479.1 kB/s eta 0:00:04\n",
      "   -------------------- ------------------- 1.7/3.2 MB 479.1 kB/s eta 0:00:04\n",
      "   --------------------- ------------------ 1.7/3.2 MB 475.6 kB/s eta 0:00:04\n",
      "   --------------------- ------------------ 1.7/3.2 MB 475.1 kB/s eta 0:00:04\n",
      "   --------------------- ------------------ 1.7/3.2 MB 471.3 kB/s eta 0:00:04\n",
      "   --------------------- ------------------ 1.8/3.2 MB 472.9 kB/s eta 0:00:04\n",
      "   --------------------- ------------------ 1.8/3.2 MB 472.9 kB/s eta 0:00:04\n",
      "   ---------------------- ----------------- 1.8/3.2 MB 469.3 kB/s eta 0:00:04\n",
      "   ---------------------- ----------------- 1.8/3.2 MB 469.7 kB/s eta 0:00:03\n",
      "   ---------------------- ----------------- 1.8/3.2 MB 469.7 kB/s eta 0:00:03\n",
      "   ---------------------- ----------------- 1.8/3.2 MB 467.4 kB/s eta 0:00:03\n",
      "   ----------------------- ---------------- 1.9/3.2 MB 462.6 kB/s eta 0:00:03\n",
      "   ----------------------- ---------------- 1.9/3.2 MB 464.1 kB/s eta 0:00:03\n",
      "   ----------------------- ---------------- 1.9/3.2 MB 462.0 kB/s eta 0:00:03\n",
      "   ----------------------- ---------------- 1.9/3.2 MB 461.0 kB/s eta 0:00:03\n",
      "   ------------------------ --------------- 1.9/3.2 MB 460.8 kB/s eta 0:00:03\n",
      "   ------------------------ --------------- 1.9/3.2 MB 458.0 kB/s eta 0:00:03\n",
      "   ------------------------ --------------- 2.0/3.2 MB 457.8 kB/s eta 0:00:03\n",
      "   ------------------------ --------------- 2.0/3.2 MB 459.3 kB/s eta 0:00:03\n",
      "   ------------------------ --------------- 2.0/3.2 MB 455.0 kB/s eta 0:00:03\n",
      "   ------------------------- -------------- 2.0/3.2 MB 454.7 kB/s eta 0:00:03\n",
      "   ------------------------- -------------- 2.0/3.2 MB 450.7 kB/s eta 0:00:03\n",
      "   ------------------------- -------------- 2.0/3.2 MB 449.0 kB/s eta 0:00:03\n",
      "   ------------------------- -------------- 2.1/3.2 MB 448.8 kB/s eta 0:00:03\n",
      "   ------------------------- -------------- 2.1/3.2 MB 448.8 kB/s eta 0:00:03\n",
      "   ------------------------- -------------- 2.1/3.2 MB 445.0 kB/s eta 0:00:03\n",
      "   -------------------------- ------------- 2.1/3.2 MB 444.9 kB/s eta 0:00:03\n",
      "   -------------------------- ------------- 2.1/3.2 MB 444.9 kB/s eta 0:00:03\n",
      "   -------------------------- ------------- 2.1/3.2 MB 441.2 kB/s eta 0:00:03\n",
      "   -------------------------- ------------- 2.1/3.2 MB 440.4 kB/s eta 0:00:03\n",
      "   -------------------------- ------------- 2.1/3.2 MB 436.9 kB/s eta 0:00:03\n",
      "   -------------------------- ------------- 2.2/3.2 MB 435.5 kB/s eta 0:00:03\n",
      "   --------------------------- ------------ 2.2/3.2 MB 435.6 kB/s eta 0:00:03\n",
      "   --------------------------- ------------ 2.2/3.2 MB 432.2 kB/s eta 0:00:03\n",
      "   --------------------------- ------------ 2.2/3.2 MB 432.2 kB/s eta 0:00:03\n",
      "   --------------------------- ------------ 2.2/3.2 MB 430.9 kB/s eta 0:00:03\n",
      "   --------------------------- ------------ 2.2/3.2 MB 429.0 kB/s eta 0:00:03\n",
      "   --------------------------- ------------ 2.2/3.2 MB 427.7 kB/s eta 0:00:03\n",
      "   ---------------------------- ----------- 2.3/3.2 MB 426.6 kB/s eta 0:00:03\n",
      "   ---------------------------- ----------- 2.3/3.2 MB 426.6 kB/s eta 0:00:03\n",
      "   ---------------------------- ----------- 2.3/3.2 MB 423.5 kB/s eta 0:00:03\n",
      "   ---------------------------- ----------- 2.3/3.2 MB 423.6 kB/s eta 0:00:03\n",
      "   ---------------------------- ----------- 2.3/3.2 MB 422.0 kB/s eta 0:00:03\n",
      "   ----------------------------- ---------- 2.3/3.2 MB 423.3 kB/s eta 0:00:03\n",
      "   ----------------------------- ---------- 2.4/3.2 MB 422.7 kB/s eta 0:00:03\n",
      "   ----------------------------- ---------- 2.4/3.2 MB 421.7 kB/s eta 0:00:02\n",
      "   ----------------------------- ---------- 2.4/3.2 MB 418.8 kB/s eta 0:00:02\n",
      "   ------------------------------ --------- 2.4/3.2 MB 421.3 kB/s eta 0:00:02\n",
      "   ------------------------------ --------- 2.4/3.2 MB 422.1 kB/s eta 0:00:02\n",
      "   ------------------------------ --------- 2.5/3.2 MB 422.2 kB/s eta 0:00:02\n",
      "   ------------------------------ --------- 2.5/3.2 MB 419.5 kB/s eta 0:00:02\n",
      "   ------------------------------- -------- 2.5/3.2 MB 419.6 kB/s eta 0:00:02\n",
      "   ------------------------------- -------- 2.5/3.2 MB 420.8 kB/s eta 0:00:02\n",
      "   ------------------------------- -------- 2.5/3.2 MB 420.3 kB/s eta 0:00:02\n",
      "   ------------------------------- -------- 2.5/3.2 MB 420.4 kB/s eta 0:00:02\n",
      "   ------------------------------- -------- 2.5/3.2 MB 420.0 kB/s eta 0:00:02\n",
      "   -------------------------------- ------- 2.6/3.2 MB 419.1 kB/s eta 0:00:02\n",
      "   -------------------------------- ------- 2.6/3.2 MB 419.2 kB/s eta 0:00:02\n",
      "   -------------------------------- ------- 2.6/3.2 MB 417.7 kB/s eta 0:00:02\n",
      "   -------------------------------- ------- 2.6/3.2 MB 416.7 kB/s eta 0:00:02\n",
      "   -------------------------------- ------- 2.6/3.2 MB 416.7 kB/s eta 0:00:02\n",
      "   -------------------------------- ------- 2.6/3.2 MB 414.3 kB/s eta 0:00:02\n",
      "   -------------------------------- ------- 2.6/3.2 MB 414.3 kB/s eta 0:00:02\n",
      "   -------------------------------- ------- 2.6/3.2 MB 414.3 kB/s eta 0:00:02\n",
      "   -------------------------------- ------- 2.6/3.2 MB 414.3 kB/s eta 0:00:02\n",
      "   --------------------------------- ------ 2.7/3.2 MB 410.3 kB/s eta 0:00:02\n",
      "   ---------------------------------- ----- 2.7/3.2 MB 413.1 kB/s eta 0:00:02\n",
      "   ---------------------------------- ----- 2.8/3.2 MB 413.2 kB/s eta 0:00:02\n",
      "   ---------------------------------- ----- 2.8/3.2 MB 412.9 kB/s eta 0:00:02\n",
      "   ---------------------------------- ----- 2.8/3.2 MB 413.0 kB/s eta 0:00:02\n",
      "   ---------------------------------- ----- 2.8/3.2 MB 412.6 kB/s eta 0:00:01\n",
      "   ----------------------------------- ---- 2.8/3.2 MB 412.8 kB/s eta 0:00:01\n",
      "   ----------------------------------- ---- 2.8/3.2 MB 413.0 kB/s eta 0:00:01\n",
      "   ----------------------------------- ---- 2.8/3.2 MB 411.6 kB/s eta 0:00:01\n",
      "   ----------------------------------- ---- 2.9/3.2 MB 410.0 kB/s eta 0:00:01\n",
      "   ----------------------------------- ---- 2.9/3.2 MB 409.6 kB/s eta 0:00:01\n",
      "   ------------------------------------ --- 2.9/3.2 MB 409.8 kB/s eta 0:00:01\n",
      "   ------------------------------------ --- 2.9/3.2 MB 409.9 kB/s eta 0:00:01\n",
      "   ------------------------------------ --- 2.9/3.2 MB 408.7 kB/s eta 0:00:01\n",
      "   ------------------------------------ --- 2.9/3.2 MB 408.9 kB/s eta 0:00:01\n",
      "   ------------------------------------ --- 3.0/3.2 MB 409.4 kB/s eta 0:00:01\n",
      "   ------------------------------------- -- 3.0/3.2 MB 410.7 kB/s eta 0:00:01\n",
      "   ------------------------------------- -- 3.0/3.2 MB 410.3 kB/s eta 0:00:01\n",
      "   ------------------------------------- -- 3.0/3.2 MB 410.5 kB/s eta 0:00:01\n",
      "   ------------------------------------- -- 3.0/3.2 MB 409.3 kB/s eta 0:00:01\n",
      "   -------------------------------------- - 3.1/3.2 MB 410.5 kB/s eta 0:00:01\n",
      "   -------------------------------------- - 3.1/3.2 MB 409.3 kB/s eta 0:00:01\n",
      "   -------------------------------------- - 3.1/3.2 MB 410.2 kB/s eta 0:00:01\n",
      "   ---------------------------------------  3.1/3.2 MB 410.1 kB/s eta 0:00:01\n",
      "   ---------------------------------------  3.2/3.2 MB 409.8 kB/s eta 0:00:01\n",
      "   ---------------------------------------  3.2/3.2 MB 410.8 kB/s eta 0:00:01\n",
      "   ---------------------------------------  3.2/3.2 MB 411.4 kB/s eta 0:00:01\n",
      "   ---------------------------------------- 3.2/3.2 MB 407.6 kB/s eta 0:00:00\n",
      "Installing collected packages: aioftp, parfive, sunpy\n",
      "Successfully installed aioftp-0.21.4 parfive-2.0.2 sunpy-5.0.0\n",
      "Note: you may need to restart the kernel to use updated packages.\n"
     ]
    }
   ],
   "source": [
    "pip install sunpy\n"
   ]
  },
  {
   "cell_type": "code",
   "execution_count": 2,
   "id": "3474d19e",
   "metadata": {},
   "outputs": [
    {
     "ename": "TypeError",
     "evalue": "concatenate() got an unexpected keyword argument 'dtype'",
     "output_type": "error",
     "traceback": [
      "\u001b[1;31m---------------------------------------------------------------------------\u001b[0m",
      "\u001b[1;31mTypeError\u001b[0m                                 Traceback (most recent call last)",
      "Cell \u001b[1;32mIn[2], line 1\u001b[0m\n\u001b[1;32m----> 1\u001b[0m \u001b[38;5;28;01mimport\u001b[39;00m \u001b[38;5;21;01msunpy\u001b[39;00m\u001b[38;5;21;01m.\u001b[39;00m\u001b[38;5;21;01mmap\u001b[39;00m\n\u001b[0;32m      2\u001b[0m \u001b[38;5;28;01mimport\u001b[39;00m \u001b[38;5;21;01mmatplotlib\u001b[39;00m\u001b[38;5;21;01m.\u001b[39;00m\u001b[38;5;21;01mpyplot\u001b[39;00m \u001b[38;5;28;01mas\u001b[39;00m \u001b[38;5;21;01mplt\u001b[39;00m\n\u001b[0;32m      4\u001b[0m \u001b[38;5;66;03m# Define the date and time of the solar observation you want to analyze\u001b[39;00m\n",
      "File \u001b[1;32m~\\anaconda3\\Lib\\site-packages\\sunpy\\map\\__init__.py:7\u001b[0m\n\u001b[0;32m      1\u001b[0m \u001b[38;5;124;03m\"\"\"\u001b[39;00m\n\u001b[0;32m      2\u001b[0m \u001b[38;5;124;03mSunPy Map\u001b[39;00m\n\u001b[0;32m      3\u001b[0m \n\u001b[0;32m      4\u001b[0m \u001b[38;5;124;03misort:skip_file\u001b[39;00m\n\u001b[0;32m      5\u001b[0m \u001b[38;5;124;03m\"\"\"\u001b[39;00m\n\u001b[0;32m      6\u001b[0m \u001b[38;5;28;01mfrom\u001b[39;00m \u001b[38;5;21;01m.\u001b[39;00m\u001b[38;5;21;01m_units\u001b[39;00m \u001b[38;5;28;01mimport\u001b[39;00m maxwell\n\u001b[1;32m----> 7\u001b[0m \u001b[38;5;28;01mfrom\u001b[39;00m \u001b[38;5;21;01msunpy\u001b[39;00m\u001b[38;5;21;01m.\u001b[39;00m\u001b[38;5;21;01mmap\u001b[39;00m\u001b[38;5;21;01m.\u001b[39;00m\u001b[38;5;21;01mmapbase\u001b[39;00m \u001b[38;5;28;01mimport\u001b[39;00m \u001b[38;5;241m*\u001b[39m\n\u001b[0;32m      9\u001b[0m \u001b[38;5;28;01mfrom\u001b[39;00m \u001b[38;5;21;01msunpy\u001b[39;00m\u001b[38;5;21;01m.\u001b[39;00m\u001b[38;5;21;01mmap\u001b[39;00m \u001b[38;5;28;01mimport\u001b[39;00m sources\n\u001b[0;32m     10\u001b[0m \u001b[38;5;28;01mfrom\u001b[39;00m \u001b[38;5;21;01msunpy\u001b[39;00m\u001b[38;5;21;01m.\u001b[39;00m\u001b[38;5;21;01mmap\u001b[39;00m\u001b[38;5;21;01m.\u001b[39;00m\u001b[38;5;21;01mheader_helper\u001b[39;00m \u001b[38;5;28;01mimport\u001b[39;00m \u001b[38;5;241m*\u001b[39m\n",
      "File \u001b[1;32m~\\anaconda3\\Lib\\site-packages\\sunpy\\map\\mapbase.py:36\u001b[0m\n\u001b[0;32m     33\u001b[0m \u001b[38;5;28;01mfrom\u001b[39;00m \u001b[38;5;21;01mastropy\u001b[39;00m\u001b[38;5;21;01m.\u001b[39;00m\u001b[38;5;21;01mvisualization\u001b[39;00m\u001b[38;5;21;01m.\u001b[39;00m\u001b[38;5;21;01mwcsaxes\u001b[39;00m \u001b[38;5;28;01mimport\u001b[39;00m Quadrangle, WCSAxes\n\u001b[0;32m     35\u001b[0m \u001b[38;5;66;03m# The next two are not used but are called to register functions with external modules\u001b[39;00m\n\u001b[1;32m---> 36\u001b[0m \u001b[38;5;28;01mimport\u001b[39;00m \u001b[38;5;21;01msunpy\u001b[39;00m\u001b[38;5;21;01m.\u001b[39;00m\u001b[38;5;21;01mcoordinates\u001b[39;00m\n\u001b[0;32m     37\u001b[0m \u001b[38;5;28;01mimport\u001b[39;00m \u001b[38;5;21;01msunpy\u001b[39;00m\u001b[38;5;21;01m.\u001b[39;00m\u001b[38;5;21;01mio\u001b[39;00m \u001b[38;5;28;01mas\u001b[39;00m \u001b[38;5;21;01mio\u001b[39;00m\n\u001b[0;32m     38\u001b[0m \u001b[38;5;28;01mimport\u001b[39;00m \u001b[38;5;21;01msunpy\u001b[39;00m\u001b[38;5;21;01m.\u001b[39;00m\u001b[38;5;21;01mio\u001b[39;00m\u001b[38;5;21;01m.\u001b[39;00m\u001b[38;5;21;01m_fits\u001b[39;00m\n",
      "File \u001b[1;32m~\\anaconda3\\Lib\\site-packages\\sunpy\\coordinates\\__init__.py:21\u001b[0m\n\u001b[0;32m      1\u001b[0m \u001b[38;5;124;03m\"\"\"\u001b[39;00m\n\u001b[0;32m      2\u001b[0m \u001b[38;5;124;03mThis subpackage contains:\u001b[39;00m\n\u001b[0;32m      3\u001b[0m \n\u001b[1;32m   (...)\u001b[0m\n\u001b[0;32m     18\u001b[0m \n\u001b[0;32m     19\u001b[0m \u001b[38;5;124;03m\"\"\"\u001b[39;00m\n\u001b[1;32m---> 21\u001b[0m \u001b[38;5;28;01mfrom\u001b[39;00m \u001b[38;5;21;01m.\u001b[39;00m \u001b[38;5;28;01mimport\u001b[39;00m sun\n\u001b[0;32m     22\u001b[0m \u001b[38;5;28;01mfrom\u001b[39;00m \u001b[38;5;21;01m.\u001b[39;00m\u001b[38;5;21;01mephemeris\u001b[39;00m \u001b[38;5;28;01mimport\u001b[39;00m \u001b[38;5;241m*\u001b[39m\n\u001b[0;32m     23\u001b[0m \u001b[38;5;28;01mfrom\u001b[39;00m \u001b[38;5;21;01m.\u001b[39;00m\u001b[38;5;21;01mframes\u001b[39;00m \u001b[38;5;28;01mimport\u001b[39;00m \u001b[38;5;241m*\u001b[39m\n",
      "File \u001b[1;32m~\\anaconda3\\Lib\\site-packages\\sunpy\\coordinates\\sun.py:34\u001b[0m\n\u001b[0;32m     32\u001b[0m \u001b[38;5;28;01mfrom\u001b[39;00m \u001b[38;5;21;01m.\u001b[39;00m\u001b[38;5;21;01mephemeris\u001b[39;00m \u001b[38;5;28;01mimport\u001b[39;00m get_earth\n\u001b[0;32m     33\u001b[0m \u001b[38;5;28;01mfrom\u001b[39;00m \u001b[38;5;21;01m.\u001b[39;00m\u001b[38;5;21;01mframes\u001b[39;00m \u001b[38;5;28;01mimport\u001b[39;00m HeliographicStonyhurst\n\u001b[1;32m---> 34\u001b[0m \u001b[38;5;28;01mfrom\u001b[39;00m \u001b[38;5;21;01m.\u001b[39;00m\u001b[38;5;21;01mtransformations\u001b[39;00m \u001b[38;5;28;01mimport\u001b[39;00m _SOLAR_NORTH_POLE_HCRS, _SUN_DETILT_MATRIX\n\u001b[0;32m     36\u001b[0m __author__ \u001b[38;5;241m=\u001b[39m \u001b[38;5;124m\"\u001b[39m\u001b[38;5;124mAlbert Y. Shih\u001b[39m\u001b[38;5;124m\"\u001b[39m\n\u001b[0;32m     37\u001b[0m __email__ \u001b[38;5;241m=\u001b[39m \u001b[38;5;124m\"\u001b[39m\u001b[38;5;124mayshih@gmail.com\u001b[39m\u001b[38;5;124m\"\u001b[39m\n",
      "File \u001b[1;32m~\\anaconda3\\Lib\\site-packages\\sunpy\\coordinates\\transformations.py:647\u001b[0m\n\u001b[0;32m    642\u001b[0m _SOLAR_NORTH_POLE_HCRS \u001b[38;5;241m=\u001b[39m UnitSphericalRepresentation(lon\u001b[38;5;241m=\u001b[39mconstants\u001b[38;5;241m.\u001b[39mget(\u001b[38;5;124m'\u001b[39m\u001b[38;5;124malpha_0\u001b[39m\u001b[38;5;124m'\u001b[39m),\n\u001b[0;32m    643\u001b[0m                                                      lat\u001b[38;5;241m=\u001b[39mconstants\u001b[38;5;241m.\u001b[39mget(\u001b[38;5;124m'\u001b[39m\u001b[38;5;124mdelta_0\u001b[39m\u001b[38;5;124m'\u001b[39m))\n\u001b[0;32m    646\u001b[0m \u001b[38;5;66;03m# Calculate the rotation matrix to de-tilt the Sun's rotation axis to be parallel to the Z axis\u001b[39;00m\n\u001b[1;32m--> 647\u001b[0m _SUN_DETILT_MATRIX \u001b[38;5;241m=\u001b[39m _rotation_matrix_reprs_to_reprs(_SOLAR_NORTH_POLE_HCRS,\n\u001b[0;32m    648\u001b[0m                                                      CartesianRepresentation(\u001b[38;5;241m0\u001b[39m, \u001b[38;5;241m0\u001b[39m, \u001b[38;5;241m1\u001b[39m))\n\u001b[0;32m    651\u001b[0m \u001b[38;5;28;01mdef\u001b[39;00m \u001b[38;5;21m_affine_params_hcrs_to_hgs\u001b[39m(hcrs_time, hgs_time):\n\u001b[0;32m    652\u001b[0m \u001b[38;5;250m    \u001b[39m\u001b[38;5;124;03m\"\"\"\u001b[39;00m\n\u001b[0;32m    653\u001b[0m \u001b[38;5;124;03m    Return the affine parameters (matrix and offset) from HCRS to HGS\u001b[39;00m\n\u001b[0;32m    654\u001b[0m \n\u001b[1;32m   (...)\u001b[0m\n\u001b[0;32m    661\u001b[0m \u001b[38;5;124;03m    vector.\u001b[39;00m\n\u001b[0;32m    662\u001b[0m \u001b[38;5;124;03m    \"\"\"\u001b[39;00m\n",
      "File \u001b[1;32m~\\anaconda3\\Lib\\site-packages\\sunpy\\coordinates\\transformations.py:597\u001b[0m, in \u001b[0;36m_rotation_matrix_reprs_to_reprs\u001b[1;34m(start_representation, end_representation)\u001b[0m\n\u001b[0;32m    595\u001b[0m A \u001b[38;5;241m=\u001b[39m start_representation\u001b[38;5;241m.\u001b[39mto_cartesian()\n\u001b[0;32m    596\u001b[0m B \u001b[38;5;241m=\u001b[39m end_representation\u001b[38;5;241m.\u001b[39mto_cartesian()\n\u001b[1;32m--> 597\u001b[0m rotation_axis \u001b[38;5;241m=\u001b[39m A\u001b[38;5;241m.\u001b[39mcross(B)\n\u001b[0;32m    598\u001b[0m rotation_angle \u001b[38;5;241m=\u001b[39m \u001b[38;5;241m-\u001b[39mnp\u001b[38;5;241m.\u001b[39marccos(A\u001b[38;5;241m.\u001b[39mdot(B) \u001b[38;5;241m/\u001b[39m (A\u001b[38;5;241m.\u001b[39mnorm() \u001b[38;5;241m*\u001b[39m B\u001b[38;5;241m.\u001b[39mnorm()))  \u001b[38;5;66;03m# negation is required\u001b[39;00m\n\u001b[0;32m    600\u001b[0m \u001b[38;5;28;01mif\u001b[39;00m rotation_angle\u001b[38;5;241m.\u001b[39misscalar:\n\u001b[0;32m    601\u001b[0m     \u001b[38;5;66;03m# This line works around some input/output quirks of Astropy's rotation_matrix()\u001b[39;00m\n",
      "File \u001b[1;32m~\\anaconda3\\Lib\\site-packages\\astropy\\coordinates\\representation.py:1513\u001b[0m, in \u001b[0;36mCartesianRepresentation.cross\u001b[1;34m(self, other)\u001b[0m\n\u001b[0;32m   1508\u001b[0m     \u001b[38;5;28;01mraise\u001b[39;00m \u001b[38;5;167;01mTypeError\u001b[39;00m(\u001b[38;5;124m\"\u001b[39m\u001b[38;5;124mcannot only take cross product with another \u001b[39m\u001b[38;5;124m\"\u001b[39m\n\u001b[0;32m   1509\u001b[0m                     \u001b[38;5;124m\"\u001b[39m\u001b[38;5;124mrepresentation, not a \u001b[39m\u001b[38;5;132;01m{}\u001b[39;00m\u001b[38;5;124m instance.\u001b[39m\u001b[38;5;124m\"\u001b[39m\n\u001b[0;32m   1510\u001b[0m                     \u001b[38;5;241m.\u001b[39mformat(\u001b[38;5;28mtype\u001b[39m(other))) \u001b[38;5;28;01mfrom\u001b[39;00m \u001b[38;5;21;01merr\u001b[39;00m\n\u001b[0;32m   1511\u001b[0m \u001b[38;5;66;03m# erfa pxp: p-vector outer (=vector=cross) product.\u001b[39;00m\n\u001b[0;32m   1512\u001b[0m sxo \u001b[38;5;241m=\u001b[39m erfa_ufunc\u001b[38;5;241m.\u001b[39mpxp(\u001b[38;5;28mself\u001b[39m\u001b[38;5;241m.\u001b[39mget_xyz(xyz_axis\u001b[38;5;241m=\u001b[39m\u001b[38;5;241m-\u001b[39m\u001b[38;5;241m1\u001b[39m),\n\u001b[1;32m-> 1513\u001b[0m                      other_c\u001b[38;5;241m.\u001b[39mget_xyz(xyz_axis\u001b[38;5;241m=\u001b[39m\u001b[38;5;241m-\u001b[39m\u001b[38;5;241m1\u001b[39m))\n\u001b[0;32m   1514\u001b[0m \u001b[38;5;28;01mreturn\u001b[39;00m \u001b[38;5;28mself\u001b[39m\u001b[38;5;241m.\u001b[39m\u001b[38;5;18m__class__\u001b[39m(sxo, xyz_axis\u001b[38;5;241m=\u001b[39m\u001b[38;5;241m-\u001b[39m\u001b[38;5;241m1\u001b[39m)\n",
      "File \u001b[1;32m~\\anaconda3\\Lib\\site-packages\\astropy\\coordinates\\representation.py:1351\u001b[0m, in \u001b[0;36mCartesianRepresentation.get_xyz\u001b[1;34m(self, xyz_axis)\u001b[0m\n\u001b[0;32m   1346\u001b[0m         \u001b[38;5;28;01mreturn\u001b[39;00m np\u001b[38;5;241m.\u001b[39mmoveaxis(\u001b[38;5;28mself\u001b[39m\u001b[38;5;241m.\u001b[39m_xyz, \u001b[38;5;28mself\u001b[39m\u001b[38;5;241m.\u001b[39m_xyz_axis, xyz_axis)\n\u001b[0;32m   1348\u001b[0m \u001b[38;5;66;03m# Create combined array.  TO DO: keep it in _xyz for repeated use?\u001b[39;00m\n\u001b[0;32m   1349\u001b[0m \u001b[38;5;66;03m# But then in-place changes have to cancel it. Likely best to\u001b[39;00m\n\u001b[0;32m   1350\u001b[0m \u001b[38;5;66;03m# also update components.\u001b[39;00m\n\u001b[1;32m-> 1351\u001b[0m \u001b[38;5;28;01mreturn\u001b[39;00m np\u001b[38;5;241m.\u001b[39mstack([\u001b[38;5;28mself\u001b[39m\u001b[38;5;241m.\u001b[39m_x, \u001b[38;5;28mself\u001b[39m\u001b[38;5;241m.\u001b[39m_y, \u001b[38;5;28mself\u001b[39m\u001b[38;5;241m.\u001b[39m_z], axis\u001b[38;5;241m=\u001b[39mxyz_axis)\n",
      "File \u001b[1;32m<__array_function__ internals>:200\u001b[0m, in \u001b[0;36mstack\u001b[1;34m(*args, **kwargs)\u001b[0m\n",
      "File \u001b[1;32m~\\anaconda3\\Lib\\site-packages\\astropy\\units\\quantity.py:1683\u001b[0m, in \u001b[0;36mQuantity.__array_function__\u001b[1;34m(self, function, types, args, kwargs)\u001b[0m\n\u001b[0;32m   1670\u001b[0m \u001b[38;5;66;03m# A function should be in one of the following sets or dicts:\u001b[39;00m\n\u001b[0;32m   1671\u001b[0m \u001b[38;5;66;03m# 1. SUBCLASS_SAFE_FUNCTIONS (set), if the numpy implementation\u001b[39;00m\n\u001b[0;32m   1672\u001b[0m \u001b[38;5;66;03m#    supports Quantity; we pass on to ndarray.__array_function__.\u001b[39;00m\n\u001b[1;32m   (...)\u001b[0m\n\u001b[0;32m   1680\u001b[0m \u001b[38;5;66;03m# function is in none of the above, we simply call the numpy\u001b[39;00m\n\u001b[0;32m   1681\u001b[0m \u001b[38;5;66;03m# implementation.\u001b[39;00m\n\u001b[0;32m   1682\u001b[0m \u001b[38;5;28;01mif\u001b[39;00m function \u001b[38;5;129;01min\u001b[39;00m SUBCLASS_SAFE_FUNCTIONS:\n\u001b[1;32m-> 1683\u001b[0m     \u001b[38;5;28;01mreturn\u001b[39;00m \u001b[38;5;28msuper\u001b[39m()\u001b[38;5;241m.\u001b[39m__array_function__(function, types, args, kwargs)\n\u001b[0;32m   1685\u001b[0m \u001b[38;5;28;01melif\u001b[39;00m function \u001b[38;5;129;01min\u001b[39;00m FUNCTION_HELPERS:\n\u001b[0;32m   1686\u001b[0m     function_helper \u001b[38;5;241m=\u001b[39m FUNCTION_HELPERS[function]\n",
      "File \u001b[1;32m~\\anaconda3\\Lib\\site-packages\\numpy\\core\\shape_base.py:471\u001b[0m, in \u001b[0;36mstack\u001b[1;34m(arrays, axis, out, dtype, casting)\u001b[0m\n\u001b[0;32m    469\u001b[0m sl \u001b[38;5;241m=\u001b[39m (\u001b[38;5;28mslice\u001b[39m(\u001b[38;5;28;01mNone\u001b[39;00m),) \u001b[38;5;241m*\u001b[39m axis \u001b[38;5;241m+\u001b[39m (_nx\u001b[38;5;241m.\u001b[39mnewaxis,)\n\u001b[0;32m    470\u001b[0m expanded_arrays \u001b[38;5;241m=\u001b[39m [arr[sl] \u001b[38;5;28;01mfor\u001b[39;00m arr \u001b[38;5;129;01min\u001b[39;00m arrays]\n\u001b[1;32m--> 471\u001b[0m \u001b[38;5;28;01mreturn\u001b[39;00m _nx\u001b[38;5;241m.\u001b[39mconcatenate(expanded_arrays, axis\u001b[38;5;241m=\u001b[39maxis, out\u001b[38;5;241m=\u001b[39mout,\n\u001b[0;32m    472\u001b[0m                        dtype\u001b[38;5;241m=\u001b[39mdtype, casting\u001b[38;5;241m=\u001b[39mcasting)\n",
      "File \u001b[1;32m<__array_function__ internals>:200\u001b[0m, in \u001b[0;36mconcatenate\u001b[1;34m(*args, **kwargs)\u001b[0m\n",
      "File \u001b[1;32m~\\anaconda3\\Lib\\site-packages\\astropy\\units\\quantity.py:1688\u001b[0m, in \u001b[0;36mQuantity.__array_function__\u001b[1;34m(self, function, types, args, kwargs)\u001b[0m\n\u001b[0;32m   1686\u001b[0m function_helper \u001b[38;5;241m=\u001b[39m FUNCTION_HELPERS[function]\n\u001b[0;32m   1687\u001b[0m \u001b[38;5;28;01mtry\u001b[39;00m:\n\u001b[1;32m-> 1688\u001b[0m     args, kwargs, unit, out \u001b[38;5;241m=\u001b[39m function_helper(\u001b[38;5;241m*\u001b[39margs, \u001b[38;5;241m*\u001b[39m\u001b[38;5;241m*\u001b[39mkwargs)\n\u001b[0;32m   1689\u001b[0m \u001b[38;5;28;01mexcept\u001b[39;00m \u001b[38;5;167;01mNotImplementedError\u001b[39;00m:\n\u001b[0;32m   1690\u001b[0m     \u001b[38;5;28;01mreturn\u001b[39;00m \u001b[38;5;28mself\u001b[39m\u001b[38;5;241m.\u001b[39m_not_implemented_or_raise(function, types)\n",
      "\u001b[1;31mTypeError\u001b[0m: concatenate() got an unexpected keyword argument 'dtype'"
     ]
    }
   ],
   "source": [
    "import sunpy.map\n",
    "import matplotlib.pyplot as plt\n",
    "\n",
    "# Define the date and time of the solar observation you want to analyze\n",
    "date_observation = \"2023-09-01T12:00:00\"  # Use the format \"YYYY-MM-DDTHH:MM:SS\"\n",
    "\n",
    "# Download solar data (in this case, an AIA 171 Ångström image)\n",
    "# You may need to adjust the wavelength and instrument based on available data\n",
    "from sunpy.net import Fido, attrs as a\n",
    "query = Fido.search(a.Time(date_observation, date_observation),\n",
    "                    a.Instrument('AIA'),\n",
    "                    a.Wavelength(171 * a.angstrom))\n",
    "downloaded_files = Fido.fetch(query)\n",
    "\n",
    "# Load the downloaded data into a SunPy Map\n",
    "solar_map = sunpy.map.Map(downloaded_files)\n",
    "\n",
    "# Plot the solar image\n",
    "plt.figure(figsize=(8, 8))\n",
    "solar_map.plot(cmap='sdoaia171')\n",
    "plt.title(f'Solar Image at {date_observation}')\n",
    "plt.colorbar()\n",
    "plt.show()"
   ]
  },
  {
   "cell_type": "code",
   "execution_count": 3,
   "id": "b6ad943f",
   "metadata": {},
   "outputs": [],
   "source": [
    "import astropy.units as u"
   ]
  },
  {
   "cell_type": "code",
   "execution_count": 4,
   "id": "aa2c8290",
   "metadata": {},
   "outputs": [
    {
     "data": {
      "text/latex": [
       "$10 \\; \\mathrm{m}$"
      ],
      "text/plain": [
       "<Quantity 10. m>"
      ]
     },
     "execution_count": 4,
     "metadata": {},
     "output_type": "execute_result"
    }
   ],
   "source": [
    "len = 10* u.meter\n",
    "len\n"
   ]
  },
  {
   "cell_type": "code",
   "execution_count": 10,
   "id": "14a107cc",
   "metadata": {},
   "outputs": [
    {
     "name": "stdout",
     "output_type": "stream",
     "text": [
      "length of value is : 10.0\n",
      "length of unit is : m\n"
     ]
    }
   ],
   "source": [
    "a = len.value\n",
    "b = len.unit\n",
    "print('length of value is :', a)\n",
    "print('length of unit is :', b)"
   ]
  },
  {
   "cell_type": "code",
   "execution_count": 13,
   "id": "393291a6",
   "metadata": {},
   "outputs": [
    {
     "data": {
      "text/latex": [
       "$22.99999 \\; \\mathrm{km}$"
      ],
      "text/plain": [
       "<Quantity 22.99999 km>"
      ]
     },
     "execution_count": 13,
     "metadata": {},
     "output_type": "execute_result"
    }
   ],
   "source": [
    "dist_start = 10 * u.mm\n",
    "dist_end = 23* u.km\n",
    "\n",
    "cal = dist_end - dist_start\n",
    "cal"
   ]
  },
  {
   "cell_type": "code",
   "execution_count": 16,
   "id": "27ee610d",
   "metadata": {},
   "outputs": [
    {
     "data": {
      "text/latex": [
       "$1.5333327 \\; \\mathrm{\\frac{km}{min}}$"
      ],
      "text/plain": [
       "<Quantity 1.53333267 km / min>"
      ]
     },
     "execution_count": 16,
     "metadata": {},
     "output_type": "execute_result"
    }
   ],
   "source": [
    "time = 15 * u.minute\n",
    "\n",
    "speed = cal / time\n",
    "speed"
   ]
  },
  {
   "cell_type": "code",
   "execution_count": null,
   "id": "c658f2ce",
   "metadata": {},
   "outputs": [],
   "source": []
  }
 ],
 "metadata": {
  "kernelspec": {
   "display_name": "Python 3 (ipykernel)",
   "language": "python",
   "name": "python3"
  },
  "language_info": {
   "codemirror_mode": {
    "name": "ipython",
    "version": 3
   },
   "file_extension": ".py",
   "mimetype": "text/x-python",
   "name": "python",
   "nbconvert_exporter": "python",
   "pygments_lexer": "ipython3",
   "version": "3.11.4"
  }
 },
 "nbformat": 4,
 "nbformat_minor": 5
}
